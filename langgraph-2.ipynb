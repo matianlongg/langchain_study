{
 "cells": [
  {
   "cell_type": "code",
   "execution_count": 42,
   "id": "52e1b0b0-270b-42f1-ae82-a0e4ffc91b92",
   "metadata": {},
   "outputs": [
    {
     "name": "stdout",
     "output_type": "stream",
     "text": [
      "Looking in indexes: https://pypi.tuna.tsinghua.edu.cn/simple\n",
      "Requirement already satisfied: langchain in /home/aiuser/miniconda3/envs/langchain-study/lib/python3.10/site-packages (0.1.14)\n",
      "Requirement already satisfied: PyYAML>=5.3 in /home/aiuser/miniconda3/envs/langchain-study/lib/python3.10/site-packages (from langchain) (6.0.1)\n",
      "Requirement already satisfied: SQLAlchemy<3,>=1.4 in /home/aiuser/miniconda3/envs/langchain-study/lib/python3.10/site-packages (from langchain) (2.0.29)\n",
      "Requirement already satisfied: aiohttp<4.0.0,>=3.8.3 in /home/aiuser/miniconda3/envs/langchain-study/lib/python3.10/site-packages (from langchain) (3.9.3)\n",
      "Requirement already satisfied: async-timeout<5.0.0,>=4.0.0 in /home/aiuser/miniconda3/envs/langchain-study/lib/python3.10/site-packages (from langchain) (4.0.3)\n",
      "Requirement already satisfied: dataclasses-json<0.7,>=0.5.7 in /home/aiuser/miniconda3/envs/langchain-study/lib/python3.10/site-packages (from langchain) (0.6.4)\n",
      "Requirement already satisfied: jsonpatch<2.0,>=1.33 in /home/aiuser/miniconda3/envs/langchain-study/lib/python3.10/site-packages (from langchain) (1.33)\n",
      "Requirement already satisfied: langchain-community<0.1,>=0.0.30 in /home/aiuser/miniconda3/envs/langchain-study/lib/python3.10/site-packages (from langchain) (0.0.31)\n",
      "Requirement already satisfied: langchain-core<0.2.0,>=0.1.37 in /home/aiuser/miniconda3/envs/langchain-study/lib/python3.10/site-packages (from langchain) (0.1.40)\n",
      "Requirement already satisfied: langchain-text-splitters<0.1,>=0.0.1 in /home/aiuser/miniconda3/envs/langchain-study/lib/python3.10/site-packages (from langchain) (0.0.1)\n",
      "Requirement already satisfied: langsmith<0.2.0,>=0.1.17 in /home/aiuser/miniconda3/envs/langchain-study/lib/python3.10/site-packages (from langchain) (0.1.40)\n",
      "Requirement already satisfied: numpy<2,>=1 in /home/aiuser/miniconda3/envs/langchain-study/lib/python3.10/site-packages (from langchain) (1.26.4)\n",
      "Requirement already satisfied: pydantic<3,>=1 in /home/aiuser/miniconda3/envs/langchain-study/lib/python3.10/site-packages (from langchain) (2.6.4)\n",
      "Requirement already satisfied: requests<3,>=2 in /home/aiuser/miniconda3/envs/langchain-study/lib/python3.10/site-packages (from langchain) (2.31.0)\n",
      "Requirement already satisfied: tenacity<9.0.0,>=8.1.0 in /home/aiuser/miniconda3/envs/langchain-study/lib/python3.10/site-packages (from langchain) (8.2.3)\n",
      "Requirement already satisfied: aiosignal>=1.1.2 in /home/aiuser/miniconda3/envs/langchain-study/lib/python3.10/site-packages (from aiohttp<4.0.0,>=3.8.3->langchain) (1.3.1)\n",
      "Requirement already satisfied: attrs>=17.3.0 in /home/aiuser/miniconda3/envs/langchain-study/lib/python3.10/site-packages (from aiohttp<4.0.0,>=3.8.3->langchain) (23.2.0)\n",
      "Requirement already satisfied: frozenlist>=1.1.1 in /home/aiuser/miniconda3/envs/langchain-study/lib/python3.10/site-packages (from aiohttp<4.0.0,>=3.8.3->langchain) (1.4.1)\n",
      "Requirement already satisfied: multidict<7.0,>=4.5 in /home/aiuser/miniconda3/envs/langchain-study/lib/python3.10/site-packages (from aiohttp<4.0.0,>=3.8.3->langchain) (6.0.5)\n",
      "Requirement already satisfied: yarl<2.0,>=1.0 in /home/aiuser/miniconda3/envs/langchain-study/lib/python3.10/site-packages (from aiohttp<4.0.0,>=3.8.3->langchain) (1.9.4)\n",
      "Requirement already satisfied: marshmallow<4.0.0,>=3.18.0 in /home/aiuser/miniconda3/envs/langchain-study/lib/python3.10/site-packages (from dataclasses-json<0.7,>=0.5.7->langchain) (3.21.1)\n",
      "Requirement already satisfied: typing-inspect<1,>=0.4.0 in /home/aiuser/miniconda3/envs/langchain-study/lib/python3.10/site-packages (from dataclasses-json<0.7,>=0.5.7->langchain) (0.9.0)\n",
      "Requirement already satisfied: jsonpointer>=1.9 in /home/aiuser/miniconda3/envs/langchain-study/lib/python3.10/site-packages (from jsonpatch<2.0,>=1.33->langchain) (2.4)\n",
      "Requirement already satisfied: packaging<24.0,>=23.2 in /home/aiuser/miniconda3/envs/langchain-study/lib/python3.10/site-packages (from langchain-core<0.2.0,>=0.1.37->langchain) (23.2)\n",
      "Requirement already satisfied: orjson<4.0.0,>=3.9.14 in /home/aiuser/miniconda3/envs/langchain-study/lib/python3.10/site-packages (from langsmith<0.2.0,>=0.1.17->langchain) (3.10.0)\n",
      "Requirement already satisfied: annotated-types>=0.4.0 in /home/aiuser/miniconda3/envs/langchain-study/lib/python3.10/site-packages (from pydantic<3,>=1->langchain) (0.6.0)\n",
      "Requirement already satisfied: pydantic-core==2.16.3 in /home/aiuser/miniconda3/envs/langchain-study/lib/python3.10/site-packages (from pydantic<3,>=1->langchain) (2.16.3)\n",
      "Requirement already satisfied: typing-extensions>=4.6.1 in /home/aiuser/miniconda3/envs/langchain-study/lib/python3.10/site-packages (from pydantic<3,>=1->langchain) (4.11.0)\n",
      "Requirement already satisfied: charset-normalizer<4,>=2 in /home/aiuser/miniconda3/envs/langchain-study/lib/python3.10/site-packages (from requests<3,>=2->langchain) (3.3.2)\n",
      "Requirement already satisfied: idna<4,>=2.5 in /home/aiuser/miniconda3/envs/langchain-study/lib/python3.10/site-packages (from requests<3,>=2->langchain) (3.6)\n",
      "Requirement already satisfied: urllib3<3,>=1.21.1 in /home/aiuser/miniconda3/envs/langchain-study/lib/python3.10/site-packages (from requests<3,>=2->langchain) (2.2.1)\n",
      "Requirement already satisfied: certifi>=2017.4.17 in /home/aiuser/miniconda3/envs/langchain-study/lib/python3.10/site-packages (from requests<3,>=2->langchain) (2024.2.2)\n",
      "Requirement already satisfied: greenlet!=0.4.17 in /home/aiuser/miniconda3/envs/langchain-study/lib/python3.10/site-packages (from SQLAlchemy<3,>=1.4->langchain) (3.0.3)\n",
      "Requirement already satisfied: mypy-extensions>=0.3.0 in /home/aiuser/miniconda3/envs/langchain-study/lib/python3.10/site-packages (from typing-inspect<1,>=0.4.0->dataclasses-json<0.7,>=0.5.7->langchain) (1.0.0)\n",
      "Looking in indexes: https://pypi.tuna.tsinghua.edu.cn/simple\n",
      "Requirement already satisfied: langgraph in /home/aiuser/miniconda3/envs/langchain-study/lib/python3.10/site-packages (0.0.32)\n",
      "Requirement already satisfied: langchain-core<0.2.0,>=0.1.38 in /home/aiuser/miniconda3/envs/langchain-study/lib/python3.10/site-packages (from langgraph) (0.1.40)\n",
      "Requirement already satisfied: PyYAML>=5.3 in /home/aiuser/miniconda3/envs/langchain-study/lib/python3.10/site-packages (from langchain-core<0.2.0,>=0.1.38->langgraph) (6.0.1)\n",
      "Requirement already satisfied: jsonpatch<2.0,>=1.33 in /home/aiuser/miniconda3/envs/langchain-study/lib/python3.10/site-packages (from langchain-core<0.2.0,>=0.1.38->langgraph) (1.33)\n",
      "Requirement already satisfied: langsmith<0.2.0,>=0.1.0 in /home/aiuser/miniconda3/envs/langchain-study/lib/python3.10/site-packages (from langchain-core<0.2.0,>=0.1.38->langgraph) (0.1.40)\n",
      "Requirement already satisfied: packaging<24.0,>=23.2 in /home/aiuser/miniconda3/envs/langchain-study/lib/python3.10/site-packages (from langchain-core<0.2.0,>=0.1.38->langgraph) (23.2)\n",
      "Requirement already satisfied: pydantic<3,>=1 in /home/aiuser/miniconda3/envs/langchain-study/lib/python3.10/site-packages (from langchain-core<0.2.0,>=0.1.38->langgraph) (2.6.4)\n",
      "Requirement already satisfied: tenacity<9.0.0,>=8.1.0 in /home/aiuser/miniconda3/envs/langchain-study/lib/python3.10/site-packages (from langchain-core<0.2.0,>=0.1.38->langgraph) (8.2.3)\n",
      "Requirement already satisfied: jsonpointer>=1.9 in /home/aiuser/miniconda3/envs/langchain-study/lib/python3.10/site-packages (from jsonpatch<2.0,>=1.33->langchain-core<0.2.0,>=0.1.38->langgraph) (2.4)\n",
      "Requirement already satisfied: orjson<4.0.0,>=3.9.14 in /home/aiuser/miniconda3/envs/langchain-study/lib/python3.10/site-packages (from langsmith<0.2.0,>=0.1.0->langchain-core<0.2.0,>=0.1.38->langgraph) (3.10.0)\n",
      "Requirement already satisfied: requests<3,>=2 in /home/aiuser/miniconda3/envs/langchain-study/lib/python3.10/site-packages (from langsmith<0.2.0,>=0.1.0->langchain-core<0.2.0,>=0.1.38->langgraph) (2.31.0)\n",
      "Requirement already satisfied: annotated-types>=0.4.0 in /home/aiuser/miniconda3/envs/langchain-study/lib/python3.10/site-packages (from pydantic<3,>=1->langchain-core<0.2.0,>=0.1.38->langgraph) (0.6.0)\n",
      "Requirement already satisfied: pydantic-core==2.16.3 in /home/aiuser/miniconda3/envs/langchain-study/lib/python3.10/site-packages (from pydantic<3,>=1->langchain-core<0.2.0,>=0.1.38->langgraph) (2.16.3)\n",
      "Requirement already satisfied: typing-extensions>=4.6.1 in /home/aiuser/miniconda3/envs/langchain-study/lib/python3.10/site-packages (from pydantic<3,>=1->langchain-core<0.2.0,>=0.1.38->langgraph) (4.11.0)\n",
      "Requirement already satisfied: charset-normalizer<4,>=2 in /home/aiuser/miniconda3/envs/langchain-study/lib/python3.10/site-packages (from requests<3,>=2->langsmith<0.2.0,>=0.1.0->langchain-core<0.2.0,>=0.1.38->langgraph) (3.3.2)\n",
      "Requirement already satisfied: idna<4,>=2.5 in /home/aiuser/miniconda3/envs/langchain-study/lib/python3.10/site-packages (from requests<3,>=2->langsmith<0.2.0,>=0.1.0->langchain-core<0.2.0,>=0.1.38->langgraph) (3.6)\n",
      "Requirement already satisfied: urllib3<3,>=1.21.1 in /home/aiuser/miniconda3/envs/langchain-study/lib/python3.10/site-packages (from requests<3,>=2->langsmith<0.2.0,>=0.1.0->langchain-core<0.2.0,>=0.1.38->langgraph) (2.2.1)\n",
      "Requirement already satisfied: certifi>=2017.4.17 in /home/aiuser/miniconda3/envs/langchain-study/lib/python3.10/site-packages (from requests<3,>=2->langsmith<0.2.0,>=0.1.0->langchain-core<0.2.0,>=0.1.38->langgraph) (2024.2.2)\n",
      "Looking in indexes: https://pypi.tuna.tsinghua.edu.cn/simple\n",
      "Requirement already satisfied: langchain_openai in /home/aiuser/miniconda3/envs/langchain-study/lib/python3.10/site-packages (0.1.1)\n",
      "Requirement already satisfied: langchain-core<0.2.0,>=0.1.33 in /home/aiuser/miniconda3/envs/langchain-study/lib/python3.10/site-packages (from langchain_openai) (0.1.40)\n",
      "Requirement already satisfied: openai<2.0.0,>=1.10.0 in /home/aiuser/miniconda3/envs/langchain-study/lib/python3.10/site-packages (from langchain_openai) (1.16.2)\n",
      "Requirement already satisfied: tiktoken<1,>=0.5.2 in /home/aiuser/miniconda3/envs/langchain-study/lib/python3.10/site-packages (from langchain_openai) (0.6.0)\n",
      "Requirement already satisfied: PyYAML>=5.3 in /home/aiuser/miniconda3/envs/langchain-study/lib/python3.10/site-packages (from langchain-core<0.2.0,>=0.1.33->langchain_openai) (6.0.1)\n",
      "Requirement already satisfied: jsonpatch<2.0,>=1.33 in /home/aiuser/miniconda3/envs/langchain-study/lib/python3.10/site-packages (from langchain-core<0.2.0,>=0.1.33->langchain_openai) (1.33)\n",
      "Requirement already satisfied: langsmith<0.2.0,>=0.1.0 in /home/aiuser/miniconda3/envs/langchain-study/lib/python3.10/site-packages (from langchain-core<0.2.0,>=0.1.33->langchain_openai) (0.1.40)\n",
      "Requirement already satisfied: packaging<24.0,>=23.2 in /home/aiuser/miniconda3/envs/langchain-study/lib/python3.10/site-packages (from langchain-core<0.2.0,>=0.1.33->langchain_openai) (23.2)\n",
      "Requirement already satisfied: pydantic<3,>=1 in /home/aiuser/miniconda3/envs/langchain-study/lib/python3.10/site-packages (from langchain-core<0.2.0,>=0.1.33->langchain_openai) (2.6.4)\n",
      "Requirement already satisfied: tenacity<9.0.0,>=8.1.0 in /home/aiuser/miniconda3/envs/langchain-study/lib/python3.10/site-packages (from langchain-core<0.2.0,>=0.1.33->langchain_openai) (8.2.3)\n",
      "Requirement already satisfied: anyio<5,>=3.5.0 in /home/aiuser/miniconda3/envs/langchain-study/lib/python3.10/site-packages (from openai<2.0.0,>=1.10.0->langchain_openai) (4.3.0)\n",
      "Requirement already satisfied: distro<2,>=1.7.0 in /home/aiuser/miniconda3/envs/langchain-study/lib/python3.10/site-packages (from openai<2.0.0,>=1.10.0->langchain_openai) (1.9.0)\n",
      "Requirement already satisfied: httpx<1,>=0.23.0 in /home/aiuser/miniconda3/envs/langchain-study/lib/python3.10/site-packages (from openai<2.0.0,>=1.10.0->langchain_openai) (0.27.0)\n",
      "Requirement already satisfied: sniffio in /home/aiuser/miniconda3/envs/langchain-study/lib/python3.10/site-packages (from openai<2.0.0,>=1.10.0->langchain_openai) (1.3.1)\n",
      "Requirement already satisfied: tqdm>4 in /home/aiuser/miniconda3/envs/langchain-study/lib/python3.10/site-packages (from openai<2.0.0,>=1.10.0->langchain_openai) (4.66.2)\n",
      "Requirement already satisfied: typing-extensions<5,>=4.7 in /home/aiuser/miniconda3/envs/langchain-study/lib/python3.10/site-packages (from openai<2.0.0,>=1.10.0->langchain_openai) (4.11.0)\n",
      "Requirement already satisfied: regex>=2022.1.18 in /home/aiuser/miniconda3/envs/langchain-study/lib/python3.10/site-packages (from tiktoken<1,>=0.5.2->langchain_openai) (2023.12.25)\n",
      "Requirement already satisfied: requests>=2.26.0 in /home/aiuser/miniconda3/envs/langchain-study/lib/python3.10/site-packages (from tiktoken<1,>=0.5.2->langchain_openai) (2.31.0)\n",
      "Requirement already satisfied: idna>=2.8 in /home/aiuser/miniconda3/envs/langchain-study/lib/python3.10/site-packages (from anyio<5,>=3.5.0->openai<2.0.0,>=1.10.0->langchain_openai) (3.6)\n",
      "Requirement already satisfied: exceptiongroup>=1.0.2 in /home/aiuser/miniconda3/envs/langchain-study/lib/python3.10/site-packages (from anyio<5,>=3.5.0->openai<2.0.0,>=1.10.0->langchain_openai) (1.2.0)\n",
      "Requirement already satisfied: certifi in /home/aiuser/miniconda3/envs/langchain-study/lib/python3.10/site-packages (from httpx<1,>=0.23.0->openai<2.0.0,>=1.10.0->langchain_openai) (2024.2.2)\n",
      "Requirement already satisfied: httpcore==1.* in /home/aiuser/miniconda3/envs/langchain-study/lib/python3.10/site-packages (from httpx<1,>=0.23.0->openai<2.0.0,>=1.10.0->langchain_openai) (1.0.5)\n",
      "Requirement already satisfied: h11<0.15,>=0.13 in /home/aiuser/miniconda3/envs/langchain-study/lib/python3.10/site-packages (from httpcore==1.*->httpx<1,>=0.23.0->openai<2.0.0,>=1.10.0->langchain_openai) (0.14.0)\n",
      "Requirement already satisfied: jsonpointer>=1.9 in /home/aiuser/miniconda3/envs/langchain-study/lib/python3.10/site-packages (from jsonpatch<2.0,>=1.33->langchain-core<0.2.0,>=0.1.33->langchain_openai) (2.4)\n",
      "Requirement already satisfied: orjson<4.0.0,>=3.9.14 in /home/aiuser/miniconda3/envs/langchain-study/lib/python3.10/site-packages (from langsmith<0.2.0,>=0.1.0->langchain-core<0.2.0,>=0.1.33->langchain_openai) (3.10.0)\n",
      "Requirement already satisfied: annotated-types>=0.4.0 in /home/aiuser/miniconda3/envs/langchain-study/lib/python3.10/site-packages (from pydantic<3,>=1->langchain-core<0.2.0,>=0.1.33->langchain_openai) (0.6.0)\n",
      "Requirement already satisfied: pydantic-core==2.16.3 in /home/aiuser/miniconda3/envs/langchain-study/lib/python3.10/site-packages (from pydantic<3,>=1->langchain-core<0.2.0,>=0.1.33->langchain_openai) (2.16.3)\n",
      "Requirement already satisfied: charset-normalizer<4,>=2 in /home/aiuser/miniconda3/envs/langchain-study/lib/python3.10/site-packages (from requests>=2.26.0->tiktoken<1,>=0.5.2->langchain_openai) (3.3.2)\n",
      "Requirement already satisfied: urllib3<3,>=1.21.1 in /home/aiuser/miniconda3/envs/langchain-study/lib/python3.10/site-packages (from requests>=2.26.0->tiktoken<1,>=0.5.2->langchain_openai) (2.2.1)\n",
      "Looking in indexes: https://pypi.tuna.tsinghua.edu.cn/simple\n",
      "Collecting grandalf\n",
      "  Using cached https://pypi.tuna.tsinghua.edu.cn/packages/61/30/44c7eb0a952478dbb5f2f67df806686d6a7e4b19f6204e091c4f49dc7c69/grandalf-0.8-py3-none-any.whl (41 kB)\n",
      "Collecting pyparsing (from grandalf)\n",
      "  Using cached https://pypi.tuna.tsinghua.edu.cn/packages/9d/ea/6d76df31432a0e6fdf81681a895f009a4bb47b3c39036db3e1b528191d52/pyparsing-3.1.2-py3-none-any.whl (103 kB)\n",
      "Installing collected packages: pyparsing, grandalf\n",
      "Successfully installed grandalf-0.8 pyparsing-3.1.2\n"
     ]
    }
   ],
   "source": [
    "# 安装langchain\n",
    "!pip install langchain\n",
    "!pip install langgraph\n",
    "!pip install langchain_openai\n",
    "!pip install grandalf"
   ]
  },
  {
   "cell_type": "code",
   "execution_count": 51,
   "id": "bc0e8701-63b9-4900-9e8c-c894031ad98e",
   "metadata": {},
   "outputs": [],
   "source": [
    "from langchain_openai import ChatOpenAI\n",
    "from langgraph.graph import StateGraph, END\n",
    "from langgraph.prebuilt import ToolExecutor\n",
    "from typing import TypedDict\n",
    "from langchain_core.tools import tool\n",
    "from langgraph.prebuilt import ToolInvocation\n",
    "from langchain_core.prompts import ChatPromptTemplate, MessagesPlaceholder\n",
    "from langchain_core.messages import BaseMessage, HumanMessage\n",
    "from typing import Annotated, Sequence, TypedDict\n",
    "import operator\n",
    "from typing import TypedDict"
   ]
  },
  {
   "cell_type": "code",
   "execution_count": 52,
   "id": "97ade328-3a5e-451b-b4ed-f60d984a2ac1",
   "metadata": {},
   "outputs": [],
   "source": [
    "# 设置模型和API密钥\n",
    "model = ChatOpenAI(\n",
    "    openai_api_key='sk-pUrgllWza2MeLT7807Fa08296172466a8a0c3373B9B686A6',\n",
    "    openai_api_base='http://192.168.1.8:15000/v1',\n",
    "    model_name='gpt-4-0125-preview',\n",
    "    temperature=0.0,\n",
    "    max_tokens=None    \n",
    ")"
   ]
  },
  {
   "cell_type": "code",
   "execution_count": 53,
   "id": "22a8f9f3-ad75-4106-86a9-8d91c3dd929d",
   "metadata": {},
   "outputs": [],
   "source": [
    "# 创建工具\n",
    "@tool\n",
    "def multiply(first_number: int, second_number: int):\n",
    "    \"\"\"Multiplies two numbers together.\"\"\"\n",
    "    return str(first_number * second_number)\n",
    "\n",
    "tools = [multiply]\n",
    "tool_executor = ToolExecutor(tools=tools)"
   ]
  },
  {
   "cell_type": "code",
   "execution_count": 54,
   "id": "8c693982-a2c2-4854-a7fd-017793a5f1bf",
   "metadata": {},
   "outputs": [],
   "source": [
    "# 定义状态\n",
    "class AgentState(TypedDict):\n",
    "    chat_history: Annotated[Sequence[BaseMessage], operator.add]\n",
    "    next: str"
   ]
  },
  {
   "cell_type": "code",
   "execution_count": 55,
   "id": "ee529c5f-115b-4c1f-a1d4-61c3987268e5",
   "metadata": {},
   "outputs": [],
   "source": [
    "# 定义图形\n",
    "graph = StateGraph(AgentState)"
   ]
  },
  {
   "cell_type": "code",
   "execution_count": 56,
   "id": "665964b2-3d9a-4927-9fca-34b9f333cd4a",
   "metadata": {},
   "outputs": [],
   "source": [
    "# 路由节点，判断用户意图\n",
    "def input_decider(state: AgentState) -> dict:\n",
    "    prompt = ChatPromptTemplate.from_messages(\n",
    "        [\n",
    "            MessagesPlaceholder(variable_name=\"chat_history\"),\n",
    "            (\n",
    "                \"system\",\n",
    "                \"请根据上面的对话,下一步应该由谁处理?\"\n",
    "                \"还是应该结束? 请选择其中一个[order_processor,query_handler,end]\",\n",
    "            ),\n",
    "        ]\n",
    "    )\n",
    "    predict = prompt | model\n",
    "    response = predict.invoke(state)  # 调用模型进行预测\n",
    "    next_action = response.content.strip().lower().replace(\"'\", \"\")  # 清理并标准化模型的输出\n",
    "    # 确保输出是有效的节点名称\n",
    "    if next_action not in [\"order_processor\", \"query_handler\", \"end\"]:\n",
    "        next_action = \"query_handler\"  # 默认回到查询处理器\n",
    "    return {\"next\": next_action}\n",
    "\n",
    "# 查询节点\n",
    "def query_handler(state):\n",
    "    # 假设根据用户查询调用模型生成回答\n",
    "    response = model.invoke(state[\"chat_history\"])\n",
    "    return {\"chat_history\": [HumanMessage(content=response.content)]}\n",
    "\n",
    "# 订单处理节点\n",
    "def order_processor(state):\n",
    "    # 使用multiply工具模拟订单处理逻辑\n",
    "    action = ToolInvocation(\n",
    "        tool=\"multiply\",  # 确保这个名称与你在ToolExecutor中设置的匹配\n",
    "        tool_input={\"first_number\": \"2\", \"second_number\": \"2\"}  # 你想传递给工具的输入数据\n",
    "    )\n",
    "    result = tool_executor.invoke(action)\n",
    "    return {\"chat_history\": [HumanMessage(content=f\"订单处理完成: {result}\")]}"
   ]
  },
  {
   "cell_type": "code",
   "execution_count": 57,
   "id": "a7f6fe35-2275-4bff-a4bb-85ce6dc14eb2",
   "metadata": {},
   "outputs": [
    {
     "name": "stdout",
     "output_type": "stream",
     "text": [
      "                                      +-----------+                                    \n",
      "                                      | __start__ |                                    \n",
      "                                      +-----------+                                    \n",
      "                                            *                                          \n",
      "                                            *                                          \n",
      "                                            *                                          \n",
      "                                    +---------------+                                  \n",
      "                                    | input_decider |                                  \n",
      "                                ****+---------------+*****                             \n",
      "                           *****             *            ******                       \n",
      "                      *****                   *                 *****                  \n",
      "                   ***                        *                      *****             \n",
      "+-------------------------+                   *                           ***          \n",
      "| input_decider_condition |***               *                              *          \n",
      "+-------------------------+   **********     *                              *          \n",
      "                *         *****         ***********                         *          \n",
      "                *              *****        *      **********               *          \n",
      "                 *                  ***    *                 ******         *          \n",
      "            +---------+           +---------------+               +-----------------+  \n",
      "            | __end__ |           | query_handler |               | order_processor |  \n",
      "            +---------+           +---------------+               +-----------------+  \n"
     ]
    }
   ],
   "source": [
    "# 添加节点\n",
    "graph.add_node(\"input_decider\", input_decider)\n",
    "graph.add_node(\"query_handler\", query_handler)\n",
    "graph.add_node(\"order_processor\", order_processor)\n",
    "\n",
    "# 添加条件边\n",
    "graph.add_conditional_edges(\n",
    "    \"input_decider\",\n",
    "    lambda x: x[\"next\"],\n",
    "    {\"query_handler\": \"query_handler\", \"order_processor\": \"order_processor\", \"end\": END}\n",
    ")\n",
    "\n",
    "graph.add_edge(\"query_handler\", \"input_decider\")\n",
    "graph.add_edge(\"order_processor\", \"input_decider\")\n",
    "\n",
    "# 设置入口点\n",
    "graph.set_entry_point(\"input_decider\")\n",
    "\n",
    "# 编译图形\n",
    "app = graph.compile()\n",
    "\n",
    "# 输出\n",
    "app.get_graph().print_ascii()"
   ]
  },
  {
   "cell_type": "code",
   "execution_count": 58,
   "id": "5645fe76-f144-4398-8c5f-016f81a68823",
   "metadata": {},
   "outputs": [
    {
     "name": "stdout",
     "output_type": "stream",
     "text": [
      "{'chat_history': [HumanMessage(content='请介绍订单查询系统'), HumanMessage(content='订单查询系统是一种信息管理系统，它允许用户通过各种方式（如网站、移动应用、电话或现场服务）查询和跟踪他们的订单状态。这种系统广泛应用于电子商务、物流、餐饮服务、制造业和其他需要处理订单的行业。订单查询系统的主要目的是提供实时的订单信息给客户，增强客户服务体验，同时提高操作效率和准确性。\\n\\n### 主要功能\\n\\n1. **订单跟踪**：用户可以输入订单号或使用登录凭证查看订单的当前状态，包括处理进度、物流信息、预计送达时间等。\\n\\n2. **历史订单查询**：用户可以查看他们过去的订单历史，包括订单详情、支付信息和状态变更记录。\\n\\n3. **自动更新通知**：系统可以通过电子邮件、短信或应用推送通知用户订单状态的更新。\\n\\n4. **客户服务接口**：提供与客服的交互接口，以便用户在有疑问或需要帮助时能够快速获得支持。\\n\\n5. **数据分析与报告**：对于企业用户，系统可以提供订单数据的分析报告，帮助企业优化库存管理、物流安排和客户服务。\\n\\n### 技术要求\\n\\n1. **数据库管理**：系统需要一个强大的数据库后端来存储订单数据、用户信息和交易记录。\\n\\n2. **接口集成**：为了提供实时的物流跟踪信息，系统需要与物流公司的API进行集成。\\n\\n3. **安全性**：系统必须保证数据的安全性，包括使用加密技术保护用户信息和交易数据。\\n\\n4. **可扩展性**：随着用户量和订单量的增加，系统应能够无缝扩展以应对增长的需求。\\n\\n5. **用户界面**：提供直观、易用的用户界面，确保用户能够轻松地进行订单查询和管理。\\n\\n### 应用案例\\n\\n- **电子商务平台**：电商平台使用订单查询系统让顾客实时了解订单处理进度和物流状态。\\n- **物流公司**：物流企业通过订单查询系统提供包裹追踪服务，增加透明度和客户满意度。\\n- **餐饮外卖服务**：外卖服务通过订单查询系统让顾客知道食物准备和配送的实时状态。\\n\\n总之，订单查询系统是提高客户满意度和运营效率的关键工具，通过提供实时的订单信息和便捷的查询服务，帮助企业建立更紧密的客户关系。')], 'next': 'end'}\n"
     ]
    }
   ],
   "source": [
    "# 运行\n",
    "initial_state = {\"chat_history\": [HumanMessage(content=\"请介绍订单查询系统\")]}\n",
    "print(app.invoke(initial_state))"
   ]
  },
  {
   "cell_type": "code",
   "execution_count": 59,
   "id": "c9d64f36-609c-4153-9e4c-e37f249cc7d8",
   "metadata": {},
   "outputs": [
    {
     "name": "stdout",
     "output_type": "stream",
     "text": [
      "{'chat_history': [HumanMessage(content='处理订单'), HumanMessage(content='订单处理完成: 4')], 'next': 'end'}\n"
     ]
    }
   ],
   "source": [
    "# 运行\n",
    "initial_state = {\"chat_history\": [HumanMessage(content=\"处理订单\")]}\n",
    "print(app.invoke(initial_state))"
   ]
  },
  {
   "cell_type": "code",
   "execution_count": null,
   "id": "c7908e49-b37d-49d5-b27b-c6473fe6745a",
   "metadata": {},
   "outputs": [],
   "source": []
  }
 ],
 "metadata": {
  "kernelspec": {
   "display_name": "Python 3 (ipykernel)",
   "language": "python",
   "name": "python3"
  },
  "language_info": {
   "codemirror_mode": {
    "name": "ipython",
    "version": 3
   },
   "file_extension": ".py",
   "mimetype": "text/x-python",
   "name": "python",
   "nbconvert_exporter": "python",
   "pygments_lexer": "ipython3",
   "version": "3.10.14"
  }
 },
 "nbformat": 4,
 "nbformat_minor": 5
}
