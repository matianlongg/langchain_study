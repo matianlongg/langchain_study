{
 "cells": [
  {
   "cell_type": "code",
   "execution_count": 4,
   "id": "64e3cfb0-9f3c-433d-a45f-9e443045b1b0",
   "metadata": {},
   "outputs": [
    {
     "name": "stdout",
     "output_type": "stream",
     "text": [
      "Looking in indexes: https://pypi.tuna.tsinghua.edu.cn/simple\n",
      "Requirement already satisfied: langchain in /home/aiuser/miniconda3/lib/python3.11/site-packages (0.1.8)\n",
      "Requirement already satisfied: PyYAML>=5.3 in /home/aiuser/miniconda3/lib/python3.11/site-packages (from langchain) (6.0.1)\n",
      "Requirement already satisfied: SQLAlchemy<3,>=1.4 in /home/aiuser/miniconda3/lib/python3.11/site-packages (from langchain) (2.0.27)\n",
      "Requirement already satisfied: aiohttp<4.0.0,>=3.8.3 in /home/aiuser/miniconda3/lib/python3.11/site-packages (from langchain) (3.9.1)\n",
      "Requirement already satisfied: dataclasses-json<0.7,>=0.5.7 in /home/aiuser/miniconda3/lib/python3.11/site-packages (from langchain) (0.6.4)\n",
      "Requirement already satisfied: jsonpatch<2.0,>=1.33 in /home/aiuser/miniconda3/lib/python3.11/site-packages (from langchain) (1.33)\n",
      "Requirement already satisfied: langchain-community<0.1,>=0.0.21 in /home/aiuser/miniconda3/lib/python3.11/site-packages (from langchain) (0.0.21)\n",
      "Requirement already satisfied: langchain-core<0.2,>=0.1.24 in /home/aiuser/miniconda3/lib/python3.11/site-packages (from langchain) (0.1.24)\n",
      "Requirement already satisfied: langsmith<0.2.0,>=0.1.0 in /home/aiuser/miniconda3/lib/python3.11/site-packages (from langchain) (0.1.3)\n",
      "Requirement already satisfied: numpy<2,>=1 in /home/aiuser/miniconda3/lib/python3.11/site-packages (from langchain) (1.26.2)\n",
      "Requirement already satisfied: pydantic<3,>=1 in /home/aiuser/miniconda3/lib/python3.11/site-packages (from langchain) (2.6.1)\n",
      "Requirement already satisfied: requests<3,>=2 in /home/aiuser/miniconda3/lib/python3.11/site-packages (from langchain) (2.31.0)\n",
      "Requirement already satisfied: tenacity<9.0.0,>=8.1.0 in /home/aiuser/miniconda3/lib/python3.11/site-packages (from langchain) (8.2.3)\n",
      "Requirement already satisfied: attrs>=17.3.0 in /home/aiuser/miniconda3/lib/python3.11/site-packages (from aiohttp<4.0.0,>=3.8.3->langchain) (23.1.0)\n",
      "Requirement already satisfied: multidict<7.0,>=4.5 in /home/aiuser/miniconda3/lib/python3.11/site-packages (from aiohttp<4.0.0,>=3.8.3->langchain) (6.0.4)\n",
      "Requirement already satisfied: yarl<2.0,>=1.0 in /home/aiuser/miniconda3/lib/python3.11/site-packages (from aiohttp<4.0.0,>=3.8.3->langchain) (1.9.4)\n",
      "Requirement already satisfied: frozenlist>=1.1.1 in /home/aiuser/miniconda3/lib/python3.11/site-packages (from aiohttp<4.0.0,>=3.8.3->langchain) (1.4.0)\n",
      "Requirement already satisfied: aiosignal>=1.1.2 in /home/aiuser/miniconda3/lib/python3.11/site-packages (from aiohttp<4.0.0,>=3.8.3->langchain) (1.3.1)\n",
      "Requirement already satisfied: marshmallow<4.0.0,>=3.18.0 in /home/aiuser/miniconda3/lib/python3.11/site-packages (from dataclasses-json<0.7,>=0.5.7->langchain) (3.20.2)\n",
      "Requirement already satisfied: typing-inspect<1,>=0.4.0 in /home/aiuser/miniconda3/lib/python3.11/site-packages (from dataclasses-json<0.7,>=0.5.7->langchain) (0.9.0)\n",
      "Requirement already satisfied: jsonpointer>=1.9 in /home/aiuser/miniconda3/lib/python3.11/site-packages (from jsonpatch<2.0,>=1.33->langchain) (2.1)\n",
      "Requirement already satisfied: anyio<5,>=3 in /home/aiuser/miniconda3/lib/python3.11/site-packages (from langchain-core<0.2,>=0.1.24->langchain) (4.3.0)\n",
      "Requirement already satisfied: packaging<24.0,>=23.2 in /home/aiuser/miniconda3/lib/python3.11/site-packages (from langchain-core<0.2,>=0.1.24->langchain) (23.2)\n",
      "Requirement already satisfied: annotated-types>=0.4.0 in /home/aiuser/miniconda3/lib/python3.11/site-packages (from pydantic<3,>=1->langchain) (0.6.0)\n",
      "Requirement already satisfied: pydantic-core==2.16.2 in /home/aiuser/miniconda3/lib/python3.11/site-packages (from pydantic<3,>=1->langchain) (2.16.2)\n",
      "Requirement already satisfied: typing-extensions>=4.6.1 in /home/aiuser/miniconda3/lib/python3.11/site-packages (from pydantic<3,>=1->langchain) (4.9.0)\n",
      "Requirement already satisfied: charset-normalizer<4,>=2 in /home/aiuser/miniconda3/lib/python3.11/site-packages (from requests<3,>=2->langchain) (2.0.4)\n",
      "Requirement already satisfied: idna<4,>=2.5 in /home/aiuser/miniconda3/lib/python3.11/site-packages (from requests<3,>=2->langchain) (3.4)\n",
      "Requirement already satisfied: urllib3<3,>=1.21.1 in /home/aiuser/miniconda3/lib/python3.11/site-packages (from requests<3,>=2->langchain) (1.26.16)\n",
      "Requirement already satisfied: certifi>=2017.4.17 in /home/aiuser/miniconda3/lib/python3.11/site-packages (from requests<3,>=2->langchain) (2023.7.22)\n",
      "Requirement already satisfied: greenlet!=0.4.17 in /home/aiuser/miniconda3/lib/python3.11/site-packages (from SQLAlchemy<3,>=1.4->langchain) (3.0.3)\n",
      "Requirement already satisfied: sniffio>=1.1 in /home/aiuser/miniconda3/lib/python3.11/site-packages (from anyio<5,>=3->langchain-core<0.2,>=0.1.24->langchain) (1.3.0)\n",
      "Requirement already satisfied: mypy-extensions>=0.3.0 in /home/aiuser/miniconda3/lib/python3.11/site-packages (from typing-inspect<1,>=0.4.0->dataclasses-json<0.7,>=0.5.7->langchain) (1.0.0)\n",
      "Looking in indexes: https://pypi.tuna.tsinghua.edu.cn/simple\n",
      "Collecting langchain_openai\n",
      "  Downloading https://pypi.tuna.tsinghua.edu.cn/packages/07/48/84e1840c25592bb76deea48d187d9fc8f864c9c82ddf3f084da4c9b8a15b/langchain_openai-0.0.6-py3-none-any.whl (29 kB)\n",
      "Requirement already satisfied: langchain-core<0.2,>=0.1.16 in /home/aiuser/miniconda3/lib/python3.11/site-packages (from langchain_openai) (0.1.24)\n",
      "Requirement already satisfied: numpy<2,>=1 in /home/aiuser/miniconda3/lib/python3.11/site-packages (from langchain_openai) (1.26.2)\n",
      "Collecting openai<2.0.0,>=1.10.0 (from langchain_openai)\n",
      "  Downloading https://pypi.tuna.tsinghua.edu.cn/packages/26/a1/75474477af2a1dae3a25f80b72bbaf20e8296191ece7fff2f67984206f33/openai-1.12.0-py3-none-any.whl (226 kB)\n",
      "\u001b[2K     \u001b[38;2;114;156;31m━━━━━━━━━━━━━━━━━━━━━━━━━━━━━━━━━━━━━\u001b[0m \u001b[32m226.7/226.7 kB\u001b[0m \u001b[31m534.0 kB/s\u001b[0m eta \u001b[36m0:00:00\u001b[0m kB/s\u001b[0m eta \u001b[36m0:00:01\u001b[0m\n",
      "\u001b[?25hCollecting tiktoken<1,>=0.5.2 (from langchain_openai)\n",
      "  Downloading https://pypi.tuna.tsinghua.edu.cn/packages/63/ec/3856d242f580d0d755c3be9024dd11b17b3363dd0c7c3000e3bdecb40d84/tiktoken-0.6.0-cp311-cp311-manylinux_2_17_x86_64.manylinux2014_x86_64.whl (1.8 MB)\n",
      "\u001b[2K     \u001b[38;2;114;156;31m━━━━━━━━━━━━━━━━━━━━━━━━━━━━━━━━━━━━━━━━\u001b[0m \u001b[32m1.8/1.8 MB\u001b[0m \u001b[31m5.9 MB/s\u001b[0m eta \u001b[36m0:00:00\u001b[0m[36m0:00:01\u001b[0m[36m0:00:01\u001b[0m:01\u001b[0m\n",
      "\u001b[?25hRequirement already satisfied: PyYAML>=5.3 in /home/aiuser/miniconda3/lib/python3.11/site-packages (from langchain-core<0.2,>=0.1.16->langchain_openai) (6.0.1)\n",
      "Requirement already satisfied: anyio<5,>=3 in /home/aiuser/miniconda3/lib/python3.11/site-packages (from langchain-core<0.2,>=0.1.16->langchain_openai) (4.3.0)\n",
      "Requirement already satisfied: jsonpatch<2.0,>=1.33 in /home/aiuser/miniconda3/lib/python3.11/site-packages (from langchain-core<0.2,>=0.1.16->langchain_openai) (1.33)\n",
      "Requirement already satisfied: langsmith<0.2.0,>=0.1.0 in /home/aiuser/miniconda3/lib/python3.11/site-packages (from langchain-core<0.2,>=0.1.16->langchain_openai) (0.1.3)\n",
      "Requirement already satisfied: packaging<24.0,>=23.2 in /home/aiuser/miniconda3/lib/python3.11/site-packages (from langchain-core<0.2,>=0.1.16->langchain_openai) (23.2)\n",
      "Requirement already satisfied: pydantic<3,>=1 in /home/aiuser/miniconda3/lib/python3.11/site-packages (from langchain-core<0.2,>=0.1.16->langchain_openai) (2.6.1)\n",
      "Requirement already satisfied: requests<3,>=2 in /home/aiuser/miniconda3/lib/python3.11/site-packages (from langchain-core<0.2,>=0.1.16->langchain_openai) (2.31.0)\n",
      "Requirement already satisfied: tenacity<9.0.0,>=8.1.0 in /home/aiuser/miniconda3/lib/python3.11/site-packages (from langchain-core<0.2,>=0.1.16->langchain_openai) (8.2.3)\n",
      "Collecting distro<2,>=1.7.0 (from openai<2.0.0,>=1.10.0->langchain_openai)\n",
      "  Downloading https://pypi.tuna.tsinghua.edu.cn/packages/12/b3/231ffd4ab1fc9d679809f356cebee130ac7daa00d6d6f3206dd4fd137e9e/distro-1.9.0-py3-none-any.whl (20 kB)\n",
      "Requirement already satisfied: httpx<1,>=0.23.0 in /home/aiuser/miniconda3/lib/python3.11/site-packages (from openai<2.0.0,>=1.10.0->langchain_openai) (0.26.0)\n",
      "Requirement already satisfied: sniffio in /home/aiuser/miniconda3/lib/python3.11/site-packages (from openai<2.0.0,>=1.10.0->langchain_openai) (1.3.0)\n",
      "Requirement already satisfied: tqdm>4 in /home/aiuser/miniconda3/lib/python3.11/site-packages (from openai<2.0.0,>=1.10.0->langchain_openai) (4.65.0)\n",
      "Requirement already satisfied: typing-extensions<5,>=4.7 in /home/aiuser/miniconda3/lib/python3.11/site-packages (from openai<2.0.0,>=1.10.0->langchain_openai) (4.9.0)\n",
      "Collecting regex>=2022.1.18 (from tiktoken<1,>=0.5.2->langchain_openai)\n",
      "  Downloading https://pypi.tuna.tsinghua.edu.cn/packages/8d/6b/2f6478814954c07c04ba60b78d688d3d7bab10d786e0b6c1db607e4f6673/regex-2023.12.25-cp311-cp311-manylinux_2_17_x86_64.manylinux2014_x86_64.whl (785 kB)\n",
      "\u001b[2K     \u001b[38;2;114;156;31m━━━━━━━━━━━━━━━━━━━━━━━━━━━━━━━━━━━━━━━\u001b[0m \u001b[32m785.1/785.1 kB\u001b[0m \u001b[31m3.8 MB/s\u001b[0m eta \u001b[36m0:00:00\u001b[0m MB/s\u001b[0m eta \u001b[36m0:00:01\u001b[0m:01\u001b[0m\n",
      "\u001b[?25hRequirement already satisfied: idna>=2.8 in /home/aiuser/miniconda3/lib/python3.11/site-packages (from anyio<5,>=3->langchain-core<0.2,>=0.1.16->langchain_openai) (3.4)\n",
      "Requirement already satisfied: certifi in /home/aiuser/miniconda3/lib/python3.11/site-packages (from httpx<1,>=0.23.0->openai<2.0.0,>=1.10.0->langchain_openai) (2023.7.22)\n",
      "Requirement already satisfied: httpcore==1.* in /home/aiuser/miniconda3/lib/python3.11/site-packages (from httpx<1,>=0.23.0->openai<2.0.0,>=1.10.0->langchain_openai) (1.0.3)\n",
      "Requirement already satisfied: h11<0.15,>=0.13 in /home/aiuser/miniconda3/lib/python3.11/site-packages (from httpcore==1.*->httpx<1,>=0.23.0->openai<2.0.0,>=1.10.0->langchain_openai) (0.14.0)\n",
      "Requirement already satisfied: jsonpointer>=1.9 in /home/aiuser/miniconda3/lib/python3.11/site-packages (from jsonpatch<2.0,>=1.33->langchain-core<0.2,>=0.1.16->langchain_openai) (2.1)\n",
      "Requirement already satisfied: annotated-types>=0.4.0 in /home/aiuser/miniconda3/lib/python3.11/site-packages (from pydantic<3,>=1->langchain-core<0.2,>=0.1.16->langchain_openai) (0.6.0)\n",
      "Requirement already satisfied: pydantic-core==2.16.2 in /home/aiuser/miniconda3/lib/python3.11/site-packages (from pydantic<3,>=1->langchain-core<0.2,>=0.1.16->langchain_openai) (2.16.2)\n",
      "Requirement already satisfied: charset-normalizer<4,>=2 in /home/aiuser/miniconda3/lib/python3.11/site-packages (from requests<3,>=2->langchain-core<0.2,>=0.1.16->langchain_openai) (2.0.4)\n",
      "Requirement already satisfied: urllib3<3,>=1.21.1 in /home/aiuser/miniconda3/lib/python3.11/site-packages (from requests<3,>=2->langchain-core<0.2,>=0.1.16->langchain_openai) (1.26.16)\n",
      "Installing collected packages: regex, distro, tiktoken, openai, langchain_openai\n",
      "Successfully installed distro-1.9.0 langchain_openai-0.0.6 openai-1.12.0 regex-2023.12.25 tiktoken-0.6.0\n"
     ]
    }
   ],
   "source": [
    "# 安装langchain\n",
    "!pip install langchain\n",
    "!pip install langchain_openai"
   ]
  },
  {
   "cell_type": "code",
   "execution_count": 5,
   "id": "4e19c507-1ee7-41de-b6b6-5b87d0b2ed2f",
   "metadata": {},
   "outputs": [],
   "source": [
    "from langchain_openai import ChatOpenAI\n",
    "# 如果有代理地址需要指定 ChatOpenAI(openai_api_base=\"\"，model_name=\"\")\n",
    "llm = ChatOpenAI()"
   ]
  },
  {
   "cell_type": "code",
   "execution_count": 11,
   "id": "ffac3388-abc3-48ec-b05a-6008d5f6df3a",
   "metadata": {},
   "outputs": [
    {
     "data": {
      "text/plain": [
       "AIMessage(content='LangChain是一个开源的自然语言处理（NLP）工具链，它旨在为开发者提供一系列强大的工具和接口，以便轻松集成和部署各种NLP功能。LangChain的目标是简化从文本分析到语言生成等复杂任务的处理流程，使得即使是没有深厚机器学习背景的开发者也能够构建和维护高效的NLP系统。\\n\\n### 核心特点\\n\\n**1. 模块化设计：**\\nLangChain采用模块化的设计理念，允许开发者根据项目需求选择和组合不同的NLP组件。这些组件包括语言模型、分词器、实体识别器、情感分析器等。\\n\\n**2. 易于集成：**\\nLangChain提供了一系列API和接口，使得将NLP功能集成到现有的应用程序中变得简单快捷。开发者可以通过这些API轻松地访问预训练的模型和算法，而无需从头开始构建。\\n\\n**3. 支持多种语言和框架：**\\nLangChain支持多种编程语言和机器学习框架，这意味着开发者可以在他们最熟悉的环境中工作，同时利用LangChain的强大功能。\\n\\n**4. 社区驱动：**\\n作为一个开源项目，LangChain鼓励社区贡献。开发者可以贡献代码，改进现有功能，或者添加新的组件和模型。\\n\\n### 应用场景\\n\\n**1. 聊天机器人：**\\nLangChain可以用于构建智能的聊天机器人，它能够理解用户的意图并做出合适的回应。通过集成LangChain，开发者可以提供更自然、更流畅的对话体验。\\n\\n**2. 文本分析：**\\n无论是社交媒体分析、市场研究还是客户反馈，LangChain都能够帮助企业从大量文本数据中提取有价值的信息，进行情感分析、关键词提取等。\\n\\n**3. 语言生成：**\\nLangChain可以用于生成自然语言文本，如新闻文章、产品描述或自动化的报告。这可以帮助内容创作者节省时间，同时保持内容的一致性和质量。\\n\\n**4. 机器翻译：**\\nLangChain的工具链可以用于开发机器翻译系统，帮助跨越语言障碍，使得内容可以触及更广泛的受众。\\n\\n### 结论\\n\\nLangChain通过其模块化、易于集成的特点，为开发者提供了一个强大的平台，以便快速部署和扩展NLP功能。随着人工智能和机器学习技术的不断进步，LangChain有望成为开发者构建智能语言处理应用的首选工具。开源的特性也意味着它将不断进化，随着社区的成长而变得更加强大和灵活。')"
      ]
     },
     "execution_count": 11,
     "metadata": {},
     "output_type": "execute_result"
    }
   ],
   "source": [
    "# 预测\n",
    "llm.invoke(\"写一篇关于langchain的文章\")"
   ]
  },
  {
   "cell_type": "code",
   "execution_count": null,
   "id": "ba8a3076-66ac-4d3d-81b4-6a0d04eff10c",
   "metadata": {},
   "outputs": [],
   "source": []
  }
 ],
 "metadata": {
  "kernelspec": {
   "display_name": "Python 3 (ipykernel)",
   "language": "python",
   "name": "python3"
  },
  "language_info": {
   "codemirror_mode": {
    "name": "ipython",
    "version": 3
   },
   "file_extension": ".py",
   "mimetype": "text/x-python",
   "name": "python",
   "nbconvert_exporter": "python",
   "pygments_lexer": "ipython3",
   "version": "3.11.5"
  }
 },
 "nbformat": 4,
 "nbformat_minor": 5
}
